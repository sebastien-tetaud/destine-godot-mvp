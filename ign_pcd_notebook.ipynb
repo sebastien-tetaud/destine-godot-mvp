{
 "cells": [
  {
   "cell_type": "markdown",
   "metadata": {},
   "source": [
    "# IGN HD liDAR PCD Generation"
   ]
  },
  {
   "cell_type": "code",
   "execution_count": 1,
   "metadata": {},
   "outputs": [],
   "source": [
    "import numpy as np\n",
    "import pandas as pd\n",
    "import pdal\n",
    "import json\n",
    "import open3d as o3d\n",
    "from pyproj import Transformer\n",
    "import matplotlib.pyplot as plt"
   ]
  },
  {
   "cell_type": "code",
   "execution_count": 2,
   "metadata": {},
   "outputs": [
    {
     "data": {
      "text/html": [
       "<div>\n",
       "<style scoped>\n",
       "    .dataframe tbody tr th:only-of-type {\n",
       "        vertical-align: middle;\n",
       "    }\n",
       "\n",
       "    .dataframe tbody tr th {\n",
       "        vertical-align: top;\n",
       "    }\n",
       "\n",
       "    .dataframe thead th {\n",
       "        text-align: right;\n",
       "    }\n",
       "</style>\n",
       "<table border=\"1\" class=\"dataframe\">\n",
       "  <thead>\n",
       "    <tr style=\"text-align: right;\">\n",
       "      <th></th>\n",
       "      <th>X</th>\n",
       "      <th>Y</th>\n",
       "      <th>Z</th>\n",
       "      <th>Intensity</th>\n",
       "      <th>ReturnNumber</th>\n",
       "      <th>NumberOfReturns</th>\n",
       "      <th>ScanDirectionFlag</th>\n",
       "      <th>EdgeOfFlightLine</th>\n",
       "      <th>Classification</th>\n",
       "      <th>Synthetic</th>\n",
       "      <th>KeyPoint</th>\n",
       "      <th>Withheld</th>\n",
       "      <th>Overlap</th>\n",
       "      <th>ScanAngleRank</th>\n",
       "      <th>UserData</th>\n",
       "      <th>PointSourceId</th>\n",
       "      <th>GpsTime</th>\n",
       "      <th>ScanChannel</th>\n",
       "    </tr>\n",
       "  </thead>\n",
       "  <tbody>\n",
       "    <tr>\n",
       "      <th>0</th>\n",
       "      <td>982086.51</td>\n",
       "      <td>6523780.07</td>\n",
       "      <td>1617.46</td>\n",
       "      <td>401</td>\n",
       "      <td>3</td>\n",
       "      <td>3</td>\n",
       "      <td>1</td>\n",
       "      <td>0</td>\n",
       "      <td>2</td>\n",
       "      <td>0</td>\n",
       "      <td>0</td>\n",
       "      <td>0</td>\n",
       "      <td>0</td>\n",
       "      <td>21.204000</td>\n",
       "      <td>7</td>\n",
       "      <td>5264</td>\n",
       "      <td>3.425217e+08</td>\n",
       "      <td>3</td>\n",
       "    </tr>\n",
       "    <tr>\n",
       "      <th>1</th>\n",
       "      <td>982093.34</td>\n",
       "      <td>6523781.04</td>\n",
       "      <td>1612.30</td>\n",
       "      <td>423</td>\n",
       "      <td>2</td>\n",
       "      <td>2</td>\n",
       "      <td>1</td>\n",
       "      <td>0</td>\n",
       "      <td>2</td>\n",
       "      <td>0</td>\n",
       "      <td>0</td>\n",
       "      <td>0</td>\n",
       "      <td>0</td>\n",
       "      <td>20.988001</td>\n",
       "      <td>7</td>\n",
       "      <td>5264</td>\n",
       "      <td>3.425217e+08</td>\n",
       "      <td>3</td>\n",
       "    </tr>\n",
       "    <tr>\n",
       "      <th>2</th>\n",
       "      <td>982091.22</td>\n",
       "      <td>6523780.56</td>\n",
       "      <td>1613.96</td>\n",
       "      <td>807</td>\n",
       "      <td>3</td>\n",
       "      <td>3</td>\n",
       "      <td>1</td>\n",
       "      <td>0</td>\n",
       "      <td>3</td>\n",
       "      <td>0</td>\n",
       "      <td>0</td>\n",
       "      <td>0</td>\n",
       "      <td>0</td>\n",
       "      <td>21.054001</td>\n",
       "      <td>7</td>\n",
       "      <td>5264</td>\n",
       "      <td>3.425217e+08</td>\n",
       "      <td>3</td>\n",
       "    </tr>\n",
       "    <tr>\n",
       "      <th>3</th>\n",
       "      <td>982089.88</td>\n",
       "      <td>6523780.25</td>\n",
       "      <td>1617.51</td>\n",
       "      <td>430</td>\n",
       "      <td>3</td>\n",
       "      <td>3</td>\n",
       "      <td>1</td>\n",
       "      <td>0</td>\n",
       "      <td>5</td>\n",
       "      <td>0</td>\n",
       "      <td>0</td>\n",
       "      <td>0</td>\n",
       "      <td>0</td>\n",
       "      <td>21.120001</td>\n",
       "      <td>7</td>\n",
       "      <td>5264</td>\n",
       "      <td>3.425217e+08</td>\n",
       "      <td>3</td>\n",
       "    </tr>\n",
       "    <tr>\n",
       "      <th>4</th>\n",
       "      <td>982086.91</td>\n",
       "      <td>6523779.58</td>\n",
       "      <td>1617.06</td>\n",
       "      <td>618</td>\n",
       "      <td>3</td>\n",
       "      <td>3</td>\n",
       "      <td>1</td>\n",
       "      <td>0</td>\n",
       "      <td>3</td>\n",
       "      <td>0</td>\n",
       "      <td>0</td>\n",
       "      <td>0</td>\n",
       "      <td>0</td>\n",
       "      <td>21.186001</td>\n",
       "      <td>7</td>\n",
       "      <td>5264</td>\n",
       "      <td>3.425217e+08</td>\n",
       "      <td>3</td>\n",
       "    </tr>\n",
       "  </tbody>\n",
       "</table>\n",
       "</div>"
      ],
      "text/plain": [
       "           X           Y        Z  Intensity  ReturnNumber  NumberOfReturns  \\\n",
       "0  982086.51  6523780.07  1617.46        401             3                3   \n",
       "1  982093.34  6523781.04  1612.30        423             2                2   \n",
       "2  982091.22  6523780.56  1613.96        807             3                3   \n",
       "3  982089.88  6523780.25  1617.51        430             3                3   \n",
       "4  982086.91  6523779.58  1617.06        618             3                3   \n",
       "\n",
       "   ScanDirectionFlag  EdgeOfFlightLine  Classification  Synthetic  KeyPoint  \\\n",
       "0                  1                 0               2          0         0   \n",
       "1                  1                 0               2          0         0   \n",
       "2                  1                 0               3          0         0   \n",
       "3                  1                 0               5          0         0   \n",
       "4                  1                 0               3          0         0   \n",
       "\n",
       "   Withheld  Overlap  ScanAngleRank  UserData  PointSourceId       GpsTime  \\\n",
       "0         0        0      21.204000         7           5264  3.425217e+08   \n",
       "1         0        0      20.988001         7           5264  3.425217e+08   \n",
       "2         0        0      21.054001         7           5264  3.425217e+08   \n",
       "3         0        0      21.120001         7           5264  3.425217e+08   \n",
       "4         0        0      21.186001         7           5264  3.425217e+08   \n",
       "\n",
       "   ScanChannel  \n",
       "0            3  \n",
       "1            3  \n",
       "2            3  \n",
       "3            3  \n",
       "4            3  "
      ]
     },
     "execution_count": 2,
     "metadata": {},
     "output_type": "execute_result"
    }
   ],
   "source": [
    "input_file = \"dem-data/LHD_FXX_0982_6524_PTS_C_LAMB93_IGN69.copc.laz\"\n",
    "# Define a PDAL pipeline to read the file\n",
    "pipeline = {\n",
    "    \"pipeline\": [\n",
    "        {\n",
    "            \"type\": \"readers.las\",\n",
    "            \"filename\": input_file\n",
    "        }\n",
    "    ]\n",
    "}\n",
    "# Convert the pipeline to JSON format\n",
    "pipeline_json = json.dumps(pipeline)\n",
    "# Initialize the PDAL pipeline\n",
    "p = pdal.Pipeline(pipeline_json)\n",
    "# Execute the pipeline\n",
    "count = p.execute()\n",
    "# Extract the point cloud data\n",
    "pcd = p.arrays\n",
    "df_ign = pd.DataFrame(pcd[0])\n",
    "df_ign.head()"
   ]
  },
  {
   "cell_type": "code",
   "execution_count": 3,
   "metadata": {},
   "outputs": [],
   "source": [
    "# Lambert 93 (EPSG:2154) → UTM Zone 32N (EPSG:32632)\n",
    "transformer = Transformer.from_crs(\"epsg:2154\", \"epsg:32632\", always_xy=True)\n",
    "# Convert X, Y coordinates\n",
    "utm_easting, utm_northing = transformer.transform(df_ign[\"X\"].values, df_ign[\"Y\"].values)\n",
    "# Add transformed coordinates to DataFrame\n",
    "df_ign[\"UTM_Easting\"] = utm_easting\n",
    "df_ign[\"UTM_Northing\"] = utm_northing"
   ]
  },
  {
   "cell_type": "code",
   "execution_count": 4,
   "metadata": {},
   "outputs": [
    {
     "name": "stdout",
     "output_type": "stream",
     "text": [
      "number of liDAR data for one Tile: 33210853 points\n"
     ]
    }
   ],
   "source": [
    "print(f\"number of liDAR data for one Tile: {len(df_ign)} points\")"
   ]
  },
  {
   "cell_type": "code",
   "execution_count": 5,
   "metadata": {},
   "outputs": [],
   "source": [
    "df_ign = pd.DataFrame(data={\"x\": df_ign[\"UTM_Easting\"],\n",
    "                            \"y\":df_ign[\"UTM_Northing\"],\n",
    "                            \"z\": df_ign[\"Z\"],\n",
    "                            'classification': df_ign[\"Classification\"]\n",
    "                            })"
   ]
  },
  {
   "cell_type": "code",
   "execution_count": 6,
   "metadata": {},
   "outputs": [
    {
     "data": {
      "text/html": [
       "<div>\n",
       "<style scoped>\n",
       "    .dataframe tbody tr th:only-of-type {\n",
       "        vertical-align: middle;\n",
       "    }\n",
       "\n",
       "    .dataframe tbody tr th {\n",
       "        vertical-align: top;\n",
       "    }\n",
       "\n",
       "    .dataframe thead th {\n",
       "        text-align: right;\n",
       "    }\n",
       "</style>\n",
       "<table border=\"1\" class=\"dataframe\">\n",
       "  <thead>\n",
       "    <tr style=\"text-align: right;\">\n",
       "      <th></th>\n",
       "      <th>x</th>\n",
       "      <th>y</th>\n",
       "      <th>z</th>\n",
       "      <th>classification</th>\n",
       "    </tr>\n",
       "  </thead>\n",
       "  <tbody>\n",
       "    <tr>\n",
       "      <th>0</th>\n",
       "      <td>315679.346779</td>\n",
       "      <td>5.069587e+06</td>\n",
       "      <td>1617.46</td>\n",
       "      <td>2</td>\n",
       "    </tr>\n",
       "    <tr>\n",
       "      <th>1</th>\n",
       "      <td>315686.236590</td>\n",
       "      <td>5.069588e+06</td>\n",
       "      <td>1612.30</td>\n",
       "      <td>2</td>\n",
       "    </tr>\n",
       "    <tr>\n",
       "      <th>2</th>\n",
       "      <td>315684.084498</td>\n",
       "      <td>5.069587e+06</td>\n",
       "      <td>1613.96</td>\n",
       "      <td>3</td>\n",
       "    </tr>\n",
       "    <tr>\n",
       "      <th>3</th>\n",
       "      <td>315682.723714</td>\n",
       "      <td>5.069587e+06</td>\n",
       "      <td>1617.51</td>\n",
       "      <td>5</td>\n",
       "    </tr>\n",
       "    <tr>\n",
       "      <th>4</th>\n",
       "      <td>315679.708940</td>\n",
       "      <td>5.069587e+06</td>\n",
       "      <td>1617.06</td>\n",
       "      <td>3</td>\n",
       "    </tr>\n",
       "  </tbody>\n",
       "</table>\n",
       "</div>"
      ],
      "text/plain": [
       "               x             y        z  classification\n",
       "0  315679.346779  5.069587e+06  1617.46               2\n",
       "1  315686.236590  5.069588e+06  1612.30               2\n",
       "2  315684.084498  5.069587e+06  1613.96               3\n",
       "3  315682.723714  5.069587e+06  1617.51               5\n",
       "4  315679.708940  5.069587e+06  1617.06               3"
      ]
     },
     "execution_count": 6,
     "metadata": {},
     "output_type": "execute_result"
    }
   ],
   "source": [
    "df_ign.head()"
   ]
  },
  {
   "cell_type": "code",
   "execution_count": 7,
   "metadata": {},
   "outputs": [
    {
     "name": "stderr",
     "output_type": "stream",
     "text": [
      "/tmp/ipykernel_2319670/3779155000.py:5: MatplotlibDeprecationWarning: The get_cmap function was deprecated in Matplotlib 3.7 and will be removed in 3.11. Use ``matplotlib.colormaps[name]`` or ``matplotlib.colormaps.get_cmap()`` or ``pyplot.get_cmap()`` instead.\n",
      "  cmap = plt.cm.get_cmap(\"tab10\", num_classes)  # Choose a colormap with enough distinct colors\n"
     ]
    }
   ],
   "source": [
    "# Get unique classification values\n",
    "unique_classes = df_ign[\"classification\"].unique()\n",
    "# Generate unique colors (normalized to [0, 1] for Open3D)\n",
    "num_classes = len(unique_classes)\n",
    "cmap = plt.cm.get_cmap(\"tab10\", num_classes)  # Choose a colormap with enough distinct colors\n",
    "class_colors = {cls: tuple((np.array(cmap(i)[:3]) * 255).astype(int)) for i, cls in enumerate(unique_classes)}"
   ]
  },
  {
   "cell_type": "code",
   "execution_count": 8,
   "metadata": {},
   "outputs": [],
   "source": [
    "# Map colors to classification values\n",
    "df_ign[\"color\"] = df_ign[\"classification\"].map(class_colors)"
   ]
  },
  {
   "cell_type": "code",
   "execution_count": 9,
   "metadata": {},
   "outputs": [
    {
     "name": "stdout",
     "output_type": "stream",
     "text": [
      "1660542\n"
     ]
    }
   ],
   "source": [
    "sample_fraction = 5\n",
    "lenght = int(5 * len(df_ign) / 100)\n",
    "df_ign = df_ign[:lenght]\n",
    "print(len(df_ign))"
   ]
  },
  {
   "cell_type": "code",
   "execution_count": 10,
   "metadata": {},
   "outputs": [
    {
     "data": {
      "text/plain": [
       "True"
      ]
     },
     "execution_count": 10,
     "metadata": {},
     "output_type": "execute_result"
    }
   ],
   "source": [
    "# Stack the UTM coordinates and DSM values into a single array\n",
    "points = np.column_stack((df_ign['x'], df_ign['y'], df_ign['z'].values))\n",
    "\n",
    "# Convert the RGB color tuples to float values in the range [0, 1]\n",
    "colors = np.array(df_ign['color'].apply(lambda x: np.array(x))) / 255.0\n",
    "\n",
    "# Create Open3D point cloud object\n",
    "point_cloud = o3d.geometry.PointCloud()\n",
    "\n",
    "# Set the points for the point cloud\n",
    "point_cloud.points = o3d.utility.Vector3dVector(points)\n",
    "\n",
    "# Set the colors for the point cloud\n",
    "point_cloud.colors = o3d.utility.Vector3dVector(colors)\n",
    "# Save the point cloud to a PLY file\n",
    "o3d.io.write_point_cloud(\"ign_lidar_4_perc.ply\", point_cloud)"
   ]
  }
 ],
 "metadata": {
  "kernelspec": {
   "display_name": "godot",
   "language": "python",
   "name": "python3"
  },
  "language_info": {
   "codemirror_mode": {
    "name": "ipython",
    "version": 3
   },
   "file_extension": ".py",
   "mimetype": "text/x-python",
   "name": "python",
   "nbconvert_exporter": "python",
   "pygments_lexer": "ipython3",
   "version": "3.13.1"
  }
 },
 "nbformat": 4,
 "nbformat_minor": 2
}
